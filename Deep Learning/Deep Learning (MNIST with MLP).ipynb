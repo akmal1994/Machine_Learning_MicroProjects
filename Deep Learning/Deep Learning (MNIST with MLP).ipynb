{
 "cells": [
  {
   "cell_type": "markdown",
   "metadata": {},
   "source": [
    "# Deep Learning (ANN)\n",
    "\n",
    "---\n",
    "\n",
    "Here I will build simple Neural Network (ANN) and use MNIST dataset to train our model and make prediction on test dataset.\n",
    "\n",
    "**Required Tool**\n",
    "\n",
    "    - numpy\n",
    "    - matplotlib\n",
    "    - seaborn\n",
    "    - keras\n",
    "    - tensorflow 2\n",
    "    \n",
    "**Architecture**\n",
    "\n",
    "    - Import Data\n",
    "    - Basic EDA\n",
    "    - Data Preprocessing\n",
    "    - Data seperation as Train and Validation\n",
    "    - Build ANN Network\n",
    "    - Evaluate Model\n",
    "    - Train Model\n",
    "    - Evaluate Model Performance\n",
    "    \n",
    "---\n",
    "\n",
    "## Import Libraries"
   ]
  },
  {
   "cell_type": "code",
   "execution_count": 1,
   "metadata": {},
   "outputs": [],
   "source": [
    "import numpy as np\n",
    "import matplotlib.pyplot as plt\n",
    "import seaborn as sns\n",
    "sns.set()\n"
   ]
  },
  {
   "cell_type": "markdown",
   "metadata": {},
   "source": [
    "# Data Processing"
   ]
  },
  {
   "cell_type": "markdown",
   "metadata": {},
   "source": [
    "### Import the Data"
   ]
  },
  {
   "cell_type": "code",
   "execution_count": 2,
   "metadata": {},
   "outputs": [],
   "source": [
    "import keras"
   ]
  },
  {
   "cell_type": "code",
   "execution_count": 3,
   "metadata": {},
   "outputs": [],
   "source": [
    "(X_train, y_train),(X_test,y_test) = keras.datasets.mnist.load_data()"
   ]
  },
  {
   "cell_type": "markdown",
   "metadata": {},
   "source": [
    "### Basic EDA"
   ]
  },
  {
   "cell_type": "code",
   "execution_count": 4,
   "metadata": {},
   "outputs": [
    {
     "name": "stdout",
     "output_type": "stream",
     "text": [
      "AxesImage(54,36;334.8x217.44)\n",
      "----------------------\n",
      "The image label is 9\n"
     ]
    },
    {
     "data": {
      "image/png": "[encoded data removed]",
      "text/plain": [
       "<Figure size 432x288 with 1 Axes>"
      ]
     },
     "metadata": {},
     "output_type": "display_data"
    }
   ],
   "source": [
    "print(plt.imshow(X_train[4]))\n",
    "print(\"----------------------\")\n",
    "print(\"The image label is\", y_train[4])"
   ]
  },
  {
   "cell_type": "code",
   "execution_count": 5,
   "metadata": {},
   "outputs": [
    {
     "data": {
      "text/plain": [
       "array([[  0,   0,   0,   0,   0,   0,   0,   0,   0,   0,   0,   0,   0,\n",
       "          0,   0,   0,   0,   0,   0,   0,   0,   0,   0,   0,   0,   0,\n",
       "          0,   0],\n",
       "       [  0,   0,   0,   0,   0,   0,   0,   0,   0,   0,   0,   0,   0,\n",
       "          0,   0,   0,   0,   0,   0,   0,   0,   0,   0,   0,   0,   0,\n",
       "          0,   0],\n",
       "       [  0,   0,   0,   0,   0,   0,   0,   0,   0,   0,   0,   0,   0,\n",
       "          0,   0,   0,   0,   0,   0,   0,   0,   0,   0,   0,   0,   0,\n",
       "          0,   0],\n",
       "       [  0,   0,   0,   0,   0,   0,   0,   0,   0,   0,   0,   0,   0,\n",
       "          0,   0,   0,   0,   0,   0,   0,   0,   0,   0,   0,   0,   0,\n",
       "          0,   0],\n",
       "       [  0,   0,   0,   0,   0,   0,   0,   0,   0,   0,   0,   0,   0,\n",
       "          0,   0,   0,   0,   0,   0,   0,   0,   0,   0,   0,   0,   0,\n",
       "          0,   0],\n",
       "       [  0,   0,   0,   0,   0,   0,   0,   0,   0,   0,   0,   0,   0,\n",
       "          0,   0,   0,   0,   0,   0,   0,   0,   0,   0,   0,   0,   0,\n",
       "          0,   0],\n",
       "       [  0,   0,   0,   0,   0,   0,   0,   0,   0,   0,   0,   0,   0,\n",
       "          0,   0,   0,   0,   0,   0,   0,   0,   0,   0,   0,   0,   0,\n",
       "          0,   0],\n",
       "       [  0,   0,   0,   0,   0,   0,   0,   0,   0,   0,   0,   0,  55,\n",
       "        148, 210, 253, 253, 113,  87, 148,  55,   0,   0,   0,   0,   0,\n",
       "          0,   0],\n",
       "       [  0,   0,   0,   0,   0,   0,   0,   0,   0,   0,   0,  87, 232,\n",
       "        252, 253, 189, 210, 252, 252, 253, 168,   0,   0,   0,   0,   0,\n",
       "          0,   0],\n",
       "       [  0,   0,   0,   0,   0,   0,   0,   0,   0,   4,  57, 242, 252,\n",
       "        190,  65,   5,  12, 182, 252, 253, 116,   0,   0,   0,   0,   0,\n",
       "          0,   0],\n",
       "       [  0,   0,   0,   0,   0,   0,   0,   0,   0,  96, 252, 252, 183,\n",
       "         14,   0,   0,  92, 252, 252, 225,  21,   0,   0,   0,   0,   0,\n",
       "          0,   0],\n",
       "       [  0,   0,   0,   0,   0,   0,   0,   0, 132, 253, 252, 146,  14,\n",
       "          0,   0,   0, 215, 252, 252,  79,   0,   0,   0,   0,   0,   0,\n",
       "          0,   0],\n",
       "       [  0,   0,   0,   0,   0,   0,   0, 126, 253, 247, 176,   9,   0,\n",
       "          0,   8,  78, 245, 253, 129,   0,   0,   0,   0,   0,   0,   0,\n",
       "          0,   0],\n",
       "       [  0,   0,   0,   0,   0,   0,  16, 232, 252, 176,   0,   0,   0,\n",
       "         36, 201, 252, 252, 169,  11,   0,   0,   0,   0,   0,   0,   0,\n",
       "          0,   0],\n",
       "       [  0,   0,   0,   0,   0,   0,  22, 252, 252,  30,  22, 119, 197,\n",
       "        241, 253, 252, 251,  77,   0,   0,   0,   0,   0,   0,   0,   0,\n",
       "          0,   0],\n",
       "       [  0,   0,   0,   0,   0,   0,  16, 231, 252, 253, 252, 252, 252,\n",
       "        226, 227, 252, 231,   0,   0,   0,   0,   0,   0,   0,   0,   0,\n",
       "          0,   0],\n",
       "       [  0,   0,   0,   0,   0,   0,   0,  55, 235, 253, 217, 138,  42,\n",
       "         24, 192, 252, 143,   0,   0,   0,   0,   0,   0,   0,   0,   0,\n",
       "          0,   0],\n",
       "       [  0,   0,   0,   0,   0,   0,   0,   0,   0,   0,   0,   0,   0,\n",
       "         62, 255, 253, 109,   0,   0,   0,   0,   0,   0,   0,   0,   0,\n",
       "          0,   0],\n",
       "       [  0,   0,   0,   0,   0,   0,   0,   0,   0,   0,   0,   0,   0,\n",
       "         71, 253, 252,  21,   0,   0,   0,   0,   0,   0,   0,   0,   0,\n",
       "          0,   0],\n",
       "       [  0,   0,   0,   0,   0,   0,   0,   0,   0,   0,   0,   0,   0,\n",
       "          0, 253, 252,  21,   0,   0,   0,   0,   0,   0,   0,   0,   0,\n",
       "          0,   0],\n",
       "       [  0,   0,   0,   0,   0,   0,   0,   0,   0,   0,   0,   0,   0,\n",
       "         71, 253, 252,  21,   0,   0,   0,   0,   0,   0,   0,   0,   0,\n",
       "          0,   0],\n",
       "       [  0,   0,   0,   0,   0,   0,   0,   0,   0,   0,   0,   0,   0,\n",
       "        106, 253, 252,  21,   0,   0,   0,   0,   0,   0,   0,   0,   0,\n",
       "          0,   0],\n",
       "       [  0,   0,   0,   0,   0,   0,   0,   0,   0,   0,   0,   0,   0,\n",
       "         45, 255, 253,  21,   0,   0,   0,   0,   0,   0,   0,   0,   0,\n",
       "          0,   0],\n",
       "       [  0,   0,   0,   0,   0,   0,   0,   0,   0,   0,   0,   0,   0,\n",
       "          0, 218, 252,  56,   0,   0,   0,   0,   0,   0,   0,   0,   0,\n",
       "          0,   0],\n",
       "       [  0,   0,   0,   0,   0,   0,   0,   0,   0,   0,   0,   0,   0,\n",
       "          0,  96, 252, 189,  42,   0,   0,   0,   0,   0,   0,   0,   0,\n",
       "          0,   0],\n",
       "       [  0,   0,   0,   0,   0,   0,   0,   0,   0,   0,   0,   0,   0,\n",
       "          0,  14, 184, 252, 170,  11,   0,   0,   0,   0,   0,   0,   0,\n",
       "          0,   0],\n",
       "       [  0,   0,   0,   0,   0,   0,   0,   0,   0,   0,   0,   0,   0,\n",
       "          0,   0,  14, 147, 252,  42,   0,   0,   0,   0,   0,   0,   0,\n",
       "          0,   0],\n",
       "       [  0,   0,   0,   0,   0,   0,   0,   0,   0,   0,   0,   0,   0,\n",
       "          0,   0,   0,   0,   0,   0,   0,   0,   0,   0,   0,   0,   0,\n",
       "          0,   0]], dtype=uint8)"
      ]
     },
     "execution_count": 5,
     "metadata": {},
     "output_type": "execute_result"
    }
   ],
   "source": [
    "X_train[4]"
   ]
  },
  {
   "cell_type": "markdown",
   "metadata": {},
   "source": [
    "#### Shape & Dimension of a Single image"
   ]
  },
  {
   "cell_type": "code",
   "execution_count": 6,
   "metadata": {},
   "outputs": [
    {
     "name": "stdout",
     "output_type": "stream",
     "text": [
      "Shape is (28, 28)\n",
      "Dimensions is 2\n"
     ]
    }
   ],
   "source": [
    "print(\"Shape is\",X_train[4].shape)\n",
    "print(\"Dimensions is\",X_train[4].ndim)"
   ]
  },
  {
   "cell_type": "code",
   "execution_count": 7,
   "metadata": {},
   "outputs": [
    {
     "name": "stdout",
     "output_type": "stream",
     "text": [
      "Shape is ()\n",
      "Dimensions is 0\n"
     ]
    }
   ],
   "source": [
    "print(\"Shape is\",y_train[4].shape)\n",
    "print(\"Dimensions is\",y_train[4].ndim)"
   ]
  },
  {
   "cell_type": "code",
   "execution_count": 8,
   "metadata": {},
   "outputs": [
    {
     "name": "stdout",
     "output_type": "stream",
     "text": [
      "9\n",
      "4\n"
     ]
    }
   ],
   "source": [
    "print(y_train[4])\n",
    "print(y_test[4])"
   ]
  },
  {
   "cell_type": "markdown",
   "metadata": {},
   "source": [
    " y_train[z]  ot y_test[z] i.e. a single element of y_train is a scaler "
   ]
  },
  {
   "cell_type": "code",
   "execution_count": 9,
   "metadata": {},
   "outputs": [
    {
     "name": "stdout",
     "output_type": "stream",
     "text": [
      "()\n",
      "()\n"
     ]
    }
   ],
   "source": [
    "print(y_train[4].shape)\n",
    "print(y_test[4].shape)"
   ]
  },
  {
   "cell_type": "markdown",
   "metadata": {},
   "source": [
    "##### Shape and Dimension of the whole Training & Testing Data set "
   ]
  },
  {
   "cell_type": "code",
   "execution_count": 10,
   "metadata": {},
   "outputs": [
    {
     "name": "stdout",
     "output_type": "stream",
     "text": [
      "Shape is (60000, 28, 28)\n",
      "Dimensions is 3\n"
     ]
    }
   ],
   "source": [
    "print(\"Shape is\",X_train.shape)\n",
    "print(\"Dimensions is\",X_train.ndim)"
   ]
  },
  {
   "cell_type": "code",
   "execution_count": 11,
   "metadata": {},
   "outputs": [
    {
     "name": "stdout",
     "output_type": "stream",
     "text": [
      "Shape is (10000, 28, 28)\n",
      "Dimensions is 3\n"
     ]
    }
   ],
   "source": [
    "print(\"Shape is\",X_test.shape)\n",
    "print(\"Dimensions is\",X_test.ndim)"
   ]
  },
  {
   "cell_type": "code",
   "execution_count": 12,
   "metadata": {},
   "outputs": [
    {
     "name": "stdout",
     "output_type": "stream",
     "text": [
      "Shape is (60000,)\n",
      "Dimensions is 1\n"
     ]
    }
   ],
   "source": [
    "print(\"Shape is\",y_train.shape)\n",
    "print(\"Dimensions is\",y_train.ndim)"
   ]
  },
  {
   "cell_type": "code",
   "execution_count": 13,
   "metadata": {},
   "outputs": [
    {
     "name": "stdout",
     "output_type": "stream",
     "text": [
      "Shape is (10000,)\n",
      "Dimensions is 1\n"
     ]
    }
   ],
   "source": [
    "print(\"Shape is\",y_test.shape)\n",
    "print(\"Dimensions is\",y_test.ndim)"
   ]
  },
  {
   "cell_type": "markdown",
   "metadata": {},
   "source": [
    "The whole y_train and y_test is a vector (array with 1 dimension)"
   ]
  },
  {
   "cell_type": "code",
   "execution_count": 14,
   "metadata": {},
   "outputs": [
    {
     "data": {
      "text/plain": [
       "array([5, 0, 4, ..., 5, 6, 8], dtype=uint8)"
      ]
     },
     "execution_count": 14,
     "metadata": {},
     "output_type": "execute_result"
    }
   ],
   "source": [
    "y_train"
   ]
  },
  {
   "cell_type": "code",
   "execution_count": 15,
   "metadata": {},
   "outputs": [
    {
     "data": {
      "text/plain": [
       "array([7, 2, 1, ..., 4, 5, 6], dtype=uint8)"
      ]
     },
     "execution_count": 15,
     "metadata": {},
     "output_type": "execute_result"
    }
   ],
   "source": [
    "y_test"
   ]
  },
  {
   "cell_type": "markdown",
   "metadata": {},
   "source": [
    "## Scaling and Reshaping : Independent Dataset"
   ]
  },
  {
   "cell_type": "code",
   "execution_count": 16,
   "metadata": {},
   "outputs": [],
   "source": [
    "X_train=X_train.reshape(60000,784)\n",
    "X_test=X_test.reshape(10000,784)"
   ]
  },
  {
   "cell_type": "code",
   "execution_count": 17,
   "metadata": {},
   "outputs": [
    {
     "name": "stdout",
     "output_type": "stream",
     "text": [
      "2\n",
      "2\n"
     ]
    }
   ],
   "source": [
    "print(X_train.ndim)\n",
    "print(X_test.ndim)\n"
   ]
  },
  {
   "cell_type": "code",
   "execution_count": 18,
   "metadata": {},
   "outputs": [
    {
     "name": "stdout",
     "output_type": "stream",
     "text": [
      "(784,)\n",
      "(60000, 784)\n",
      "(784,)\n",
      "(10000, 784)\n"
     ]
    }
   ],
   "source": [
    "print(X_train[4].shape)\n",
    "print(X_train.shape)\n",
    "print(X_test[4].shape)\n",
    "print(X_test.shape)"
   ]
  },
  {
   "cell_type": "code",
   "execution_count": 19,
   "metadata": {},
   "outputs": [],
   "source": [
    "X_train = X_train.astype('float32')/255\n",
    "X_test = X_test.astype('float32')/255"
   ]
  },
  {
   "cell_type": "code",
   "execution_count": 20,
   "metadata": {},
   "outputs": [
    {
     "data": {
      "text/plain": [
       "60000"
      ]
     },
     "execution_count": 20,
     "metadata": {},
     "output_type": "execute_result"
    }
   ],
   "source": [
    "len(X_train)"
   ]
  },
  {
   "cell_type": "markdown",
   "metadata": {},
   "source": [
    "## Making the Dependent Dataset ready "
   ]
  },
  {
   "cell_type": "code",
   "execution_count": 21,
   "metadata": {},
   "outputs": [],
   "source": [
    "from keras.utils import to_categorical"
   ]
  },
  {
   "cell_type": "code",
   "execution_count": 22,
   "metadata": {},
   "outputs": [
    {
     "data": {
      "text/plain": [
       "array([0, 1, 2, 3, 4, 5, 6, 7, 8, 9], dtype=uint8)"
      ]
     },
     "execution_count": 22,
     "metadata": {},
     "output_type": "execute_result"
    }
   ],
   "source": [
    "np.unique(y_train)"
   ]
  },
  {
   "cell_type": "code",
   "execution_count": 23,
   "metadata": {},
   "outputs": [],
   "source": [
    "no_of_classes= len(np.unique(y_train))"
   ]
  },
  {
   "cell_type": "code",
   "execution_count": 24,
   "metadata": {},
   "outputs": [
    {
     "data": {
      "text/plain": [
       "10"
      ]
     },
     "execution_count": 24,
     "metadata": {},
     "output_type": "execute_result"
    }
   ],
   "source": [
    "no_of_classes"
   ]
  },
  {
   "cell_type": "code",
   "execution_count": 25,
   "metadata": {},
   "outputs": [],
   "source": [
    "y_train= keras.utils.to_categorical(y_train,no_of_classes)\n",
    "y_test= keras.utils.to_categorical(y_test,no_of_classes)"
   ]
  },
  {
   "cell_type": "markdown",
   "metadata": {},
   "source": [
    "##### Refer y_train[4] & y_test[4]  to the earlier part of the code to check for their values and match with this one hot encoded values"
   ]
  },
  {
   "cell_type": "code",
   "execution_count": 26,
   "metadata": {},
   "outputs": [
    {
     "data": {
      "text/plain": [
       "array([0., 0., 0., 0., 0., 0., 0., 0., 0., 1.], dtype=float32)"
      ]
     },
     "execution_count": 26,
     "metadata": {},
     "output_type": "execute_result"
    }
   ],
   "source": [
    "y_train[4]"
   ]
  },
  {
   "cell_type": "code",
   "execution_count": 27,
   "metadata": {},
   "outputs": [
    {
     "name": "stdout",
     "output_type": "stream",
     "text": [
      "[0. 0. 0. 0. 1. 0. 0. 0. 0. 0.]\n"
     ]
    }
   ],
   "source": [
    "print(y_test[4])"
   ]
  },
  {
   "cell_type": "markdown",
   "metadata": {},
   "source": [
    "## Create Testing and Validation Data Seperately"
   ]
  },
  {
   "cell_type": "code",
   "execution_count": 28,
   "metadata": {},
   "outputs": [],
   "source": [
    "(X_train ,X_valid)= X_train[:45000],X_train[45000:]\n",
    "(y_train ,y_valid)= y_train[:45000],y_train[45000:]"
   ]
  },
  {
   "cell_type": "code",
   "execution_count": 29,
   "metadata": {},
   "outputs": [
    {
     "name": "stdout",
     "output_type": "stream",
     "text": [
      "45000\n",
      "15000\n",
      "45000\n",
      "15000\n"
     ]
    }
   ],
   "source": [
    "print(len(X_train))\n",
    "print(len(X_valid))\n",
    "print(len(y_train))\n",
    "print(len(y_valid))"
   ]
  },
  {
   "cell_type": "markdown",
   "metadata": {},
   "source": [
    "# Build a Neural Network"
   ]
  },
  {
   "cell_type": "code",
   "execution_count": 30,
   "metadata": {},
   "outputs": [],
   "source": [
    "import tensorflow as tf"
   ]
  },
  {
   "cell_type": "code",
   "execution_count": 31,
   "metadata": {},
   "outputs": [],
   "source": [
    "from tensorflow.keras.models import Sequential\n",
    "from tensorflow.keras.layers import Dense"
   ]
  },
  {
   "cell_type": "code",
   "execution_count": 32,
   "metadata": {},
   "outputs": [],
   "source": [
    "model=Sequential()"
   ]
  },
  {
   "cell_type": "code",
   "execution_count": 33,
   "metadata": {},
   "outputs": [],
   "source": [
    "model.add(Dense(units=256,kernel_initializer='uniform',activation='relu',input_dim=784))"
   ]
  },
  {
   "cell_type": "code",
   "execution_count": 34,
   "metadata": {},
   "outputs": [],
   "source": [
    "model.add(Dense(units=256,kernel_initializer='uniform',activation='relu'))\n",
    "model.add(Dense(units=256,kernel_initializer='uniform',activation='relu'))\n",
    "model.add(Dense(units=256,kernel_initializer='uniform',activation='relu'))"
   ]
  },
  {
   "cell_type": "code",
   "execution_count": 35,
   "metadata": {},
   "outputs": [],
   "source": [
    "model.add(Dense(units=10,kernel_initializer='uniform',activation='softmax'))"
   ]
  },
  {
   "cell_type": "code",
   "execution_count": 36,
   "metadata": {},
   "outputs": [],
   "source": [
    "model.compile(optimizer='adam',loss='categorical_crossentropy',metrics=(['accuracy']))"
   ]
  },
  {
   "cell_type": "code",
   "execution_count": 37,
   "metadata": {},
   "outputs": [
    {
     "name": "stdout",
     "output_type": "stream",
     "text": [
      "Epoch 1/50\n",
      "450/450 - 2s - loss: 0.4146 - accuracy: 0.8692 - val_loss: 0.1807 - val_accuracy: 0.9469\n",
      "Epoch 2/50\n",
      "450/450 - 2s - loss: 0.1345 - accuracy: 0.9595 - val_loss: 0.1301 - val_accuracy: 0.9611\n",
      "Epoch 3/50\n",
      "450/450 - 2s - loss: 0.0867 - accuracy: 0.9735 - val_loss: 0.1186 - val_accuracy: 0.9661\n",
      "Epoch 4/50\n",
      "450/450 - 2s - loss: 0.0665 - accuracy: 0.9794 - val_loss: 0.1314 - val_accuracy: 0.9619\n",
      "Epoch 5/50\n",
      "450/450 - 2s - loss: 0.0498 - accuracy: 0.9845 - val_loss: 0.1210 - val_accuracy: 0.9675\n",
      "Epoch 6/50\n",
      "450/450 - 2s - loss: 0.0428 - accuracy: 0.9865 - val_loss: 0.1101 - val_accuracy: 0.9702\n",
      "Epoch 7/50\n",
      "450/450 - 2s - loss: 0.0349 - accuracy: 0.9890 - val_loss: 0.1168 - val_accuracy: 0.9707\n",
      "Epoch 8/50\n",
      "450/450 - 2s - loss: 0.0320 - accuracy: 0.9898 - val_loss: 0.1033 - val_accuracy: 0.9739\n",
      "Epoch 9/50\n",
      "450/450 - 2s - loss: 0.0271 - accuracy: 0.9913 - val_loss: 0.1287 - val_accuracy: 0.9706\n",
      "Epoch 10/50\n",
      "450/450 - 2s - loss: 0.0243 - accuracy: 0.9928 - val_loss: 0.1113 - val_accuracy: 0.9739\n",
      "Epoch 11/50\n",
      "450/450 - 2s - loss: 0.0221 - accuracy: 0.9931 - val_loss: 0.1081 - val_accuracy: 0.9751\n",
      "Epoch 12/50\n",
      "450/450 - 2s - loss: 0.0205 - accuracy: 0.9936 - val_loss: 0.1111 - val_accuracy: 0.9761\n",
      "Epoch 13/50\n",
      "450/450 - 2s - loss: 0.0192 - accuracy: 0.9943 - val_loss: 0.1092 - val_accuracy: 0.9744\n",
      "Epoch 14/50\n",
      "450/450 - 2s - loss: 0.0148 - accuracy: 0.9957 - val_loss: 0.1715 - val_accuracy: 0.9639\n",
      "Epoch 15/50\n",
      "450/450 - 2s - loss: 0.0172 - accuracy: 0.9947 - val_loss: 0.1469 - val_accuracy: 0.9712\n",
      "Epoch 16/50\n",
      "450/450 - 2s - loss: 0.0142 - accuracy: 0.9960 - val_loss: 0.1351 - val_accuracy: 0.9713\n",
      "Epoch 17/50\n",
      "450/450 - 2s - loss: 0.0133 - accuracy: 0.9959 - val_loss: 0.1149 - val_accuracy: 0.9777\n",
      "Epoch 18/50\n",
      "450/450 - 1s - loss: 0.0143 - accuracy: 0.9955 - val_loss: 0.1258 - val_accuracy: 0.9742\n",
      "Epoch 19/50\n",
      "450/450 - 1s - loss: 0.0132 - accuracy: 0.9960 - val_loss: 0.1440 - val_accuracy: 0.9760\n",
      "Epoch 20/50\n",
      "450/450 - 1s - loss: 0.0114 - accuracy: 0.9968 - val_loss: 0.1543 - val_accuracy: 0.9702\n",
      "Epoch 21/50\n",
      "450/450 - 1s - loss: 0.0115 - accuracy: 0.9968 - val_loss: 0.1424 - val_accuracy: 0.9743\n",
      "Epoch 22/50\n",
      "450/450 - 1s - loss: 0.0142 - accuracy: 0.9960 - val_loss: 0.1234 - val_accuracy: 0.9757\n",
      "Epoch 23/50\n",
      "450/450 - 1s - loss: 0.0082 - accuracy: 0.9974 - val_loss: 0.1325 - val_accuracy: 0.9770\n",
      "Epoch 24/50\n",
      "450/450 - 1s - loss: 0.0121 - accuracy: 0.9963 - val_loss: 0.1380 - val_accuracy: 0.9747\n",
      "Epoch 25/50\n",
      "450/450 - 1s - loss: 0.0096 - accuracy: 0.9970 - val_loss: 0.1461 - val_accuracy: 0.9749\n",
      "Epoch 26/50\n",
      "450/450 - 1s - loss: 0.0077 - accuracy: 0.9979 - val_loss: 0.1496 - val_accuracy: 0.9729\n",
      "Epoch 27/50\n",
      "450/450 - 1s - loss: 0.0125 - accuracy: 0.9965 - val_loss: 0.1332 - val_accuracy: 0.9756\n",
      "Epoch 28/50\n",
      "450/450 - 1s - loss: 0.0076 - accuracy: 0.9982 - val_loss: 0.1610 - val_accuracy: 0.9757\n",
      "Epoch 29/50\n",
      "450/450 - 1s - loss: 0.0076 - accuracy: 0.9979 - val_loss: 0.1247 - val_accuracy: 0.9779\n",
      "Epoch 30/50\n",
      "450/450 - 1s - loss: 0.0085 - accuracy: 0.9975 - val_loss: 0.1198 - val_accuracy: 0.9779\n",
      "Epoch 31/50\n",
      "450/450 - 1s - loss: 0.0064 - accuracy: 0.9979 - val_loss: 0.1473 - val_accuracy: 0.9748\n",
      "Epoch 32/50\n",
      "450/450 - 1s - loss: 0.0074 - accuracy: 0.9979 - val_loss: 0.1300 - val_accuracy: 0.9771\n",
      "Epoch 33/50\n",
      "450/450 - 1s - loss: 0.0068 - accuracy: 0.9979 - val_loss: 0.1444 - val_accuracy: 0.9765\n",
      "Epoch 34/50\n",
      "450/450 - 1s - loss: 0.0056 - accuracy: 0.9982 - val_loss: 0.1556 - val_accuracy: 0.9766\n",
      "Epoch 35/50\n",
      "450/450 - 1s - loss: 0.0081 - accuracy: 0.9976 - val_loss: 0.1545 - val_accuracy: 0.9753\n",
      "Epoch 36/50\n",
      "450/450 - 1s - loss: 0.0058 - accuracy: 0.9984 - val_loss: 0.1443 - val_accuracy: 0.9781\n",
      "Epoch 37/50\n",
      "450/450 - 1s - loss: 0.0079 - accuracy: 0.9978 - val_loss: 0.1303 - val_accuracy: 0.9785\n",
      "Epoch 38/50\n",
      "450/450 - 1s - loss: 0.0066 - accuracy: 0.9980 - val_loss: 0.1459 - val_accuracy: 0.9783\n",
      "Epoch 39/50\n",
      "450/450 - 1s - loss: 0.0068 - accuracy: 0.9979 - val_loss: 0.1397 - val_accuracy: 0.9776\n",
      "Epoch 40/50\n",
      "450/450 - 1s - loss: 0.0062 - accuracy: 0.9984 - val_loss: 0.1484 - val_accuracy: 0.9791\n",
      "Epoch 41/50\n",
      "450/450 - 1s - loss: 0.0086 - accuracy: 0.9979 - val_loss: 0.1632 - val_accuracy: 0.9754\n",
      "Epoch 42/50\n",
      "450/450 - 1s - loss: 0.0051 - accuracy: 0.9985 - val_loss: 0.1700 - val_accuracy: 0.9771\n",
      "Epoch 43/50\n",
      "450/450 - 1s - loss: 0.0066 - accuracy: 0.9984 - val_loss: 0.1612 - val_accuracy: 0.9785\n",
      "Epoch 44/50\n",
      "450/450 - 1s - loss: 0.0079 - accuracy: 0.9979 - val_loss: 0.1765 - val_accuracy: 0.9768\n",
      "Epoch 45/50\n",
      "450/450 - 1s - loss: 0.0055 - accuracy: 0.9986 - val_loss: 0.1508 - val_accuracy: 0.9787\n",
      "Epoch 46/50\n",
      "450/450 - 1s - loss: 0.0036 - accuracy: 0.9989 - val_loss: 0.1999 - val_accuracy: 0.9743\n",
      "Epoch 47/50\n",
      "450/450 - 1s - loss: 0.0088 - accuracy: 0.9977 - val_loss: 0.1442 - val_accuracy: 0.9784\n",
      "Epoch 48/50\n",
      "450/450 - 1s - loss: 0.0028 - accuracy: 0.9991 - val_loss: 0.1734 - val_accuracy: 0.9780\n",
      "Epoch 49/50\n",
      "450/450 - 1s - loss: 0.0041 - accuracy: 0.9991 - val_loss: 0.1656 - val_accuracy: 0.9789\n",
      "Epoch 50/50\n",
      "450/450 - 1s - loss: 0.0072 - accuracy: 0.9982 - val_loss: 0.1353 - val_accuracy: 0.9771\n"
     ]
    }
   ],
   "source": [
    "answers=model.fit(X_train,y_train,validation_data=(X_valid,y_valid),epochs=50,batch_size=100,verbose=2)"
   ]
  },
  {
   "cell_type": "code",
   "execution_count": 38,
   "metadata": {},
   "outputs": [
    {
     "name": "stdout",
     "output_type": "stream",
     "text": [
      "1407/1407 [==============================] - 2s 1ms/step - loss: 0.0027 - accuracy: 0.9991\n"
     ]
    }
   ],
   "source": [
    "results= model.evaluate(X_train,y_train)"
   ]
  },
  {
   "cell_type": "markdown",
   "metadata": {},
   "source": [
    "### results show loss and accuracy"
   ]
  },
  {
   "cell_type": "code",
   "execution_count": 39,
   "metadata": {},
   "outputs": [
    {
     "data": {
      "text/plain": [
       "[0.002665351377800107, 0.9990888833999634]"
      ]
     },
     "execution_count": 39,
     "metadata": {},
     "output_type": "execute_result"
    }
   ],
   "source": [
    "results"
   ]
  },
  {
   "cell_type": "code",
   "execution_count": 40,
   "metadata": {},
   "outputs": [
    {
     "data": {
      "text/plain": [
       "dict_keys(['loss', 'accuracy', 'val_loss', 'val_accuracy'])"
      ]
     },
     "execution_count": 40,
     "metadata": {},
     "output_type": "execute_result"
    }
   ],
   "source": [
    "answers.history.keys()\n"
   ]
  },
  {
   "cell_type": "code",
   "execution_count": 41,
   "metadata": {},
   "outputs": [
    {
     "data": {
      "image/png": "[encoded data removed]",
      "text/plain": [
       "<Figure size 432x288 with 1 Axes>"
      ]
     },
     "metadata": {},
     "output_type": "display_data"
    }
   ],
   "source": [
    "plt.plot(answers.history['accuracy'],label='train');\n",
    "plt.plot(answers.history['val_accuracy'],label='validation')\n",
    "plt.xlabel(\"Epoch\")\n",
    "plt.ylabel(\"accuracy\")\n",
    "plt.legend();"
   ]
  },
  {
   "cell_type": "code",
   "execution_count": 42,
   "metadata": {},
   "outputs": [
    {
     "data": {
      "image/png": "[encoded data removed]",
      "text/plain": [
       "<Figure size 432x288 with 1 Axes>"
      ]
     },
     "metadata": {},
     "output_type": "display_data"
    }
   ],
   "source": [
    "plt.plot(answers.history['loss'],label='train');\n",
    "plt.plot(answers.history['val_loss'],label='validation')\n",
    "plt.xlabel(\"Epoch\")\n",
    "plt.ylabel(\"Loss\")\n",
    "plt.legend();"
   ]
  }
 ],
 "metadata": {
  "kernelspec": {
   "display_name": "Python 3",
   "language": "python",
   "name": "python3"
  },
  "language_info": {
   "codemirror_mode": {
    "name": "ipython",
    "version": 3
   },
   "file_extension": ".py",
   "mimetype": "text/x-python",
   "name": "python",
   "nbconvert_exporter": "python",
   "pygments_lexer": "ipython3",
   "version": "3.8.5"
  }
 },
 "nbformat": 4,
 "nbformat_minor": 4
}
