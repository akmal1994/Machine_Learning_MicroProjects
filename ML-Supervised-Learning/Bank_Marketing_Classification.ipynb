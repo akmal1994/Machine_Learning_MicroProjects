{
 "cells": [
  {
   "cell_type": "markdown",
   "metadata": {},
   "source": [
    "# Supervised Learning\n",
    "The data given is labeled data here we have independent variables and target variable. Using supervised technique to train our model as well perform some tasks like:\n",
    "\n",
    "    1. Primary Analysis of data\n",
    "    2. EDA, missing values analysis, label encoding, feature scaling by scikit-learn\n",
    "    3. Build few supervised models like Logistic Reg, AdaBoost, KNN, SVM.\n",
    "    4. At end tabulate performance metrics of all models to see model performance in predicting target variable."
   ]
  },
  {
   "cell_type": "markdown",
   "metadata": {},
   "source": [
    "#### Importing Required Libraries for basic operations\n",
    "\n",
    "\n",
    "1. **pandas:** With the help of pandas library operation of dataframe become easy, we can see all statistical parameters and also helps to perform many dataframe operations like rename column, concatinate, information of columns type, we can check for null values also, convert categorical to numerical, and many more.\n",
    "\n",
    "\n",
    "2. **numpy:** numpy is used for basic array operations.\n",
    "\n",
    "\n",
    "3. **Matplotlib & Seaborn:** Throughout the work I need visual representation of some columns, here matplotlib and seaborn will help to show graphical presentation of data."
   ]
  },
  {
   "cell_type": "code",
   "execution_count": 1,
   "metadata": {},
   "outputs": [],
   "source": [
    "import pandas as pd\n",
    "import numpy as np\n",
    "import matplotlib.pyplot as plt\n",
    "import seaborn as sns\n",
    "sns.set()"
   ]
  },
  {
   "cell_type": "code",
   "execution_count": 2,
   "metadata": {},
   "outputs": [
    {
     "data": {
      "text/html": [
       "<div>\n",
       "<style scoped>\n",
       "    .dataframe tbody tr th:only-of-type {\n",
       "        vertical-align: middle;\n",
       "    }\n",
       "\n",
       "    .dataframe tbody tr th {\n",
       "        vertical-align: top;\n",
       "    }\n",
       "\n",
       "    .dataframe thead th {\n",
       "        text-align: right;\n",
       "    }\n",
       "</style>\n",
       "<table border=\"1\" class=\"dataframe\">\n",
       "  <thead>\n",
       "    <tr style=\"text-align: right;\">\n",
       "      <th></th>\n",
       "      <th>age</th>\n",
       "      <th>job</th>\n",
       "      <th>marital</th>\n",
       "      <th>education</th>\n",
       "      <th>default</th>\n",
       "      <th>housing</th>\n",
       "      <th>loan</th>\n",
       "      <th>contact</th>\n",
       "      <th>month</th>\n",
       "      <th>day_of_week</th>\n",
       "      <th>...</th>\n",
       "      <th>campaign</th>\n",
       "      <th>pdays</th>\n",
       "      <th>previous</th>\n",
       "      <th>poutcome</th>\n",
       "      <th>emp.var.rate</th>\n",
       "      <th>cons.price.idx</th>\n",
       "      <th>cons.conf.idx</th>\n",
       "      <th>euribor3m</th>\n",
       "      <th>nr.employed</th>\n",
       "      <th>y</th>\n",
       "    </tr>\n",
       "  </thead>\n",
       "  <tbody>\n",
       "    <tr>\n",
       "      <th>0</th>\n",
       "      <td>56</td>\n",
       "      <td>housemaid</td>\n",
       "      <td>married</td>\n",
       "      <td>basic.4y</td>\n",
       "      <td>no</td>\n",
       "      <td>no</td>\n",
       "      <td>no</td>\n",
       "      <td>telephone</td>\n",
       "      <td>may</td>\n",
       "      <td>mon</td>\n",
       "      <td>...</td>\n",
       "      <td>1</td>\n",
       "      <td>999</td>\n",
       "      <td>0</td>\n",
       "      <td>nonexistent</td>\n",
       "      <td>1.1</td>\n",
       "      <td>93.994</td>\n",
       "      <td>-36.4</td>\n",
       "      <td>4.857</td>\n",
       "      <td>5191.0</td>\n",
       "      <td>no</td>\n",
       "    </tr>\n",
       "    <tr>\n",
       "      <th>1</th>\n",
       "      <td>57</td>\n",
       "      <td>services</td>\n",
       "      <td>married</td>\n",
       "      <td>high.school</td>\n",
       "      <td>unknown</td>\n",
       "      <td>no</td>\n",
       "      <td>no</td>\n",
       "      <td>telephone</td>\n",
       "      <td>may</td>\n",
       "      <td>mon</td>\n",
       "      <td>...</td>\n",
       "      <td>1</td>\n",
       "      <td>999</td>\n",
       "      <td>0</td>\n",
       "      <td>nonexistent</td>\n",
       "      <td>1.1</td>\n",
       "      <td>93.994</td>\n",
       "      <td>-36.4</td>\n",
       "      <td>4.857</td>\n",
       "      <td>5191.0</td>\n",
       "      <td>no</td>\n",
       "    </tr>\n",
       "    <tr>\n",
       "      <th>2</th>\n",
       "      <td>37</td>\n",
       "      <td>services</td>\n",
       "      <td>married</td>\n",
       "      <td>high.school</td>\n",
       "      <td>no</td>\n",
       "      <td>yes</td>\n",
       "      <td>no</td>\n",
       "      <td>telephone</td>\n",
       "      <td>may</td>\n",
       "      <td>mon</td>\n",
       "      <td>...</td>\n",
       "      <td>1</td>\n",
       "      <td>999</td>\n",
       "      <td>0</td>\n",
       "      <td>nonexistent</td>\n",
       "      <td>1.1</td>\n",
       "      <td>93.994</td>\n",
       "      <td>-36.4</td>\n",
       "      <td>4.857</td>\n",
       "      <td>5191.0</td>\n",
       "      <td>no</td>\n",
       "    </tr>\n",
       "    <tr>\n",
       "      <th>3</th>\n",
       "      <td>40</td>\n",
       "      <td>admin.</td>\n",
       "      <td>married</td>\n",
       "      <td>basic.6y</td>\n",
       "      <td>no</td>\n",
       "      <td>no</td>\n",
       "      <td>no</td>\n",
       "      <td>telephone</td>\n",
       "      <td>may</td>\n",
       "      <td>mon</td>\n",
       "      <td>...</td>\n",
       "      <td>1</td>\n",
       "      <td>999</td>\n",
       "      <td>0</td>\n",
       "      <td>nonexistent</td>\n",
       "      <td>1.1</td>\n",
       "      <td>93.994</td>\n",
       "      <td>-36.4</td>\n",
       "      <td>4.857</td>\n",
       "      <td>5191.0</td>\n",
       "      <td>no</td>\n",
       "    </tr>\n",
       "    <tr>\n",
       "      <th>4</th>\n",
       "      <td>56</td>\n",
       "      <td>services</td>\n",
       "      <td>married</td>\n",
       "      <td>high.school</td>\n",
       "      <td>no</td>\n",
       "      <td>no</td>\n",
       "      <td>yes</td>\n",
       "      <td>telephone</td>\n",
       "      <td>may</td>\n",
       "      <td>mon</td>\n",
       "      <td>...</td>\n",
       "      <td>1</td>\n",
       "      <td>999</td>\n",
       "      <td>0</td>\n",
       "      <td>nonexistent</td>\n",
       "      <td>1.1</td>\n",
       "      <td>93.994</td>\n",
       "      <td>-36.4</td>\n",
       "      <td>4.857</td>\n",
       "      <td>5191.0</td>\n",
       "      <td>no</td>\n",
       "    </tr>\n",
       "  </tbody>\n",
       "</table>\n",
       "<p>5 rows × 21 columns</p>\n",
       "</div>"
      ],
      "text/plain": [
       "   age        job  marital    education  default housing loan    contact  \\\n",
       "0   56  housemaid  married     basic.4y       no      no   no  telephone   \n",
       "1   57   services  married  high.school  unknown      no   no  telephone   \n",
       "2   37   services  married  high.school       no     yes   no  telephone   \n",
       "3   40     admin.  married     basic.6y       no      no   no  telephone   \n",
       "4   56   services  married  high.school       no      no  yes  telephone   \n",
       "\n",
       "  month day_of_week  ...  campaign  pdays  previous     poutcome emp.var.rate  \\\n",
       "0   may         mon  ...         1    999         0  nonexistent          1.1   \n",
       "1   may         mon  ...         1    999         0  nonexistent          1.1   \n",
       "2   may         mon  ...         1    999         0  nonexistent          1.1   \n",
       "3   may         mon  ...         1    999         0  nonexistent          1.1   \n",
       "4   may         mon  ...         1    999         0  nonexistent          1.1   \n",
       "\n",
       "   cons.price.idx  cons.conf.idx  euribor3m  nr.employed   y  \n",
       "0          93.994          -36.4      4.857       5191.0  no  \n",
       "1          93.994          -36.4      4.857       5191.0  no  \n",
       "2          93.994          -36.4      4.857       5191.0  no  \n",
       "3          93.994          -36.4      4.857       5191.0  no  \n",
       "4          93.994          -36.4      4.857       5191.0  no  \n",
       "\n",
       "[5 rows x 21 columns]"
      ]
     },
     "execution_count": 2,
     "metadata": {},
     "output_type": "execute_result"
    }
   ],
   "source": [
    "df = pd.read_csv('bank.csv', delimiter=';')\n",
    "df.head()"
   ]
  },
  {
   "cell_type": "markdown",
   "metadata": {},
   "source": [
    "### 1. Primary analysis of several categorical features reveal"
   ]
  },
  {
   "cell_type": "code",
   "execution_count": 7,
   "metadata": {},
   "outputs": [
    {
     "data": {
      "text/plain": [
       "(array([33950.,     0.,     0.,     0.,     0.,  6248.,     0.,     0.,\n",
       "            0.,   990.]),\n",
       " array([0. , 0.2, 0.4, 0.6, 0.8, 1. , 1.2, 1.4, 1.6, 1.8, 2. ]),\n",
       " <BarContainer object of 10 artists>)"
      ]
     },
     "execution_count": 7,
     "metadata": {},
     "output_type": "execute_result"
    },
    {
     "data": {
      "image/png": "[encoded data removed]",
      "text/plain": [
       "<Figure size 1080x720 with 4 Axes>"
      ]
     },
     "metadata": {},
     "output_type": "display_data"
    }
   ],
   "source": [
    "fig = plt.figure(figsize=(15,10))\n",
    "ax1 = fig.add_subplot(2,2,1)\n",
    "plt.xticks(rotation=45)\n",
    "ax2 = fig.add_subplot(2,2,2)\n",
    "plt.xticks(rotation=45)\n",
    "ax3 = fig.add_subplot(2,2,3)\n",
    "plt.xticks(rotation=45)\n",
    "ax4 = fig.add_subplot(2,2,4)\n",
    "plt.xticks(rotation=45)\n",
    "\n",
    "ax1.hist(df.marital)\n",
    "\n",
    "ax2.hist(df.job)\n",
    "\n",
    "ax3.hist(df.education)\n",
    "\n",
    "ax4.hist(df.loan)"
   ]
  },
  {
   "cell_type": "code",
   "execution_count": 8,
   "metadata": {},
   "outputs": [
    {
     "data": {
      "text/html": [
       "<div>\n",
       "<style scoped>\n",
       "    .dataframe tbody tr th:only-of-type {\n",
       "        vertical-align: middle;\n",
       "    }\n",
       "\n",
       "    .dataframe tbody tr th {\n",
       "        vertical-align: top;\n",
       "    }\n",
       "\n",
       "    .dataframe thead th {\n",
       "        text-align: right;\n",
       "    }\n",
       "</style>\n",
       "<table border=\"1\" class=\"dataframe\">\n",
       "  <thead>\n",
       "    <tr style=\"text-align: right;\">\n",
       "      <th></th>\n",
       "      <th>job</th>\n",
       "      <th>marital</th>\n",
       "      <th>education</th>\n",
       "      <th>default</th>\n",
       "      <th>housing</th>\n",
       "      <th>loan</th>\n",
       "      <th>contact</th>\n",
       "      <th>month</th>\n",
       "      <th>day_of_week</th>\n",
       "      <th>poutcome</th>\n",
       "      <th>y</th>\n",
       "    </tr>\n",
       "  </thead>\n",
       "  <tbody>\n",
       "    <tr>\n",
       "      <th>count</th>\n",
       "      <td>41188</td>\n",
       "      <td>41188</td>\n",
       "      <td>41188</td>\n",
       "      <td>41188</td>\n",
       "      <td>41188</td>\n",
       "      <td>41188</td>\n",
       "      <td>41188</td>\n",
       "      <td>41188</td>\n",
       "      <td>41188</td>\n",
       "      <td>41188</td>\n",
       "      <td>41188</td>\n",
       "    </tr>\n",
       "    <tr>\n",
       "      <th>unique</th>\n",
       "      <td>12</td>\n",
       "      <td>4</td>\n",
       "      <td>8</td>\n",
       "      <td>3</td>\n",
       "      <td>3</td>\n",
       "      <td>3</td>\n",
       "      <td>2</td>\n",
       "      <td>10</td>\n",
       "      <td>5</td>\n",
       "      <td>3</td>\n",
       "      <td>2</td>\n",
       "    </tr>\n",
       "    <tr>\n",
       "      <th>top</th>\n",
       "      <td>admin.</td>\n",
       "      <td>married</td>\n",
       "      <td>university.degree</td>\n",
       "      <td>no</td>\n",
       "      <td>yes</td>\n",
       "      <td>no</td>\n",
       "      <td>cellular</td>\n",
       "      <td>may</td>\n",
       "      <td>thu</td>\n",
       "      <td>nonexistent</td>\n",
       "      <td>no</td>\n",
       "    </tr>\n",
       "    <tr>\n",
       "      <th>freq</th>\n",
       "      <td>10422</td>\n",
       "      <td>24928</td>\n",
       "      <td>12168</td>\n",
       "      <td>32588</td>\n",
       "      <td>21576</td>\n",
       "      <td>33950</td>\n",
       "      <td>26144</td>\n",
       "      <td>13769</td>\n",
       "      <td>8623</td>\n",
       "      <td>35563</td>\n",
       "      <td>36548</td>\n",
       "    </tr>\n",
       "  </tbody>\n",
       "</table>\n",
       "</div>"
      ],
      "text/plain": [
       "           job  marital          education default housing   loan   contact  \\\n",
       "count    41188    41188              41188   41188   41188  41188     41188   \n",
       "unique      12        4                  8       3       3      3         2   \n",
       "top     admin.  married  university.degree      no     yes     no  cellular   \n",
       "freq     10422    24928              12168   32588   21576  33950     26144   \n",
       "\n",
       "        month day_of_week     poutcome      y  \n",
       "count   41188       41188        41188  41188  \n",
       "unique     10           5            3      2  \n",
       "top       may         thu  nonexistent     no  \n",
       "freq    13769        8623        35563  36548  "
      ]
     },
     "execution_count": 8,
     "metadata": {},
     "output_type": "execute_result"
    }
   ],
   "source": [
    "df.describe(include='object')"
   ]
  },
  {
   "cell_type": "markdown",
   "metadata": {},
   "source": [
    "### 2. Basic Exploratory Data Analysis"
   ]
  },
  {
   "cell_type": "code",
   "execution_count": 44,
   "metadata": {},
   "outputs": [
    {
     "data": {
      "text/plain": [
       "(41188, 21)"
      ]
     },
     "execution_count": 44,
     "metadata": {},
     "output_type": "execute_result"
    }
   ],
   "source": [
    "df.shape"
   ]
  },
  {
   "cell_type": "code",
   "execution_count": 3,
   "metadata": {},
   "outputs": [
    {
     "name": "stdout",
     "output_type": "stream",
     "text": [
      "<class 'pandas.core.frame.DataFrame'>\n",
      "RangeIndex: 41188 entries, 0 to 41187\n",
      "Data columns (total 21 columns):\n",
      " #   Column          Non-Null Count  Dtype  \n",
      "---  ------          --------------  -----  \n",
      " 0   age             41188 non-null  int64  \n",
      " 1   job             41188 non-null  object \n",
      " 2   marital         41188 non-null  object \n",
      " 3   education       41188 non-null  object \n",
      " 4   default         41188 non-null  object \n",
      " 5   housing         41188 non-null  object \n",
      " 6   loan            41188 non-null  object \n",
      " 7   contact         41188 non-null  object \n",
      " 8   month           41188 non-null  object \n",
      " 9   day_of_week     41188 non-null  object \n",
      " 10  duration        41188 non-null  int64  \n",
      " 11  campaign        41188 non-null  int64  \n",
      " 12  pdays           41188 non-null  int64  \n",
      " 13  previous        41188 non-null  int64  \n",
      " 14  poutcome        41188 non-null  object \n",
      " 15  emp.var.rate    41188 non-null  float64\n",
      " 16  cons.price.idx  41188 non-null  float64\n",
      " 17  cons.conf.idx   41188 non-null  float64\n",
      " 18  euribor3m       41188 non-null  float64\n",
      " 19  nr.employed     41188 non-null  float64\n",
      " 20  y               41188 non-null  object \n",
      "dtypes: float64(5), int64(5), object(11)\n",
      "memory usage: 6.6+ MB\n"
     ]
    }
   ],
   "source": [
    "df.info()"
   ]
  },
  {
   "cell_type": "code",
   "execution_count": 4,
   "metadata": {},
   "outputs": [
    {
     "data": {
      "text/plain": [
       "age               0\n",
       "job               0\n",
       "marital           0\n",
       "education         0\n",
       "default           0\n",
       "housing           0\n",
       "loan              0\n",
       "contact           0\n",
       "month             0\n",
       "day_of_week       0\n",
       "duration          0\n",
       "campaign          0\n",
       "pdays             0\n",
       "previous          0\n",
       "poutcome          0\n",
       "emp.var.rate      0\n",
       "cons.price.idx    0\n",
       "cons.conf.idx     0\n",
       "euribor3m         0\n",
       "nr.employed       0\n",
       "y                 0\n",
       "dtype: int64"
      ]
     },
     "execution_count": 4,
     "metadata": {},
     "output_type": "execute_result"
    }
   ],
   "source": [
    "df.isna().sum()"
   ]
  },
  {
   "cell_type": "code",
   "execution_count": 9,
   "metadata": {},
   "outputs": [
    {
     "data": {
      "text/html": [
       "<div>\n",
       "<style scoped>\n",
       "    .dataframe tbody tr th:only-of-type {\n",
       "        vertical-align: middle;\n",
       "    }\n",
       "\n",
       "    .dataframe tbody tr th {\n",
       "        vertical-align: top;\n",
       "    }\n",
       "\n",
       "    .dataframe thead th {\n",
       "        text-align: right;\n",
       "    }\n",
       "</style>\n",
       "<table border=\"1\" class=\"dataframe\">\n",
       "  <thead>\n",
       "    <tr style=\"text-align: right;\">\n",
       "      <th></th>\n",
       "      <th>age</th>\n",
       "      <th>job</th>\n",
       "      <th>marital</th>\n",
       "      <th>education</th>\n",
       "      <th>default</th>\n",
       "      <th>housing</th>\n",
       "      <th>loan</th>\n",
       "      <th>contact</th>\n",
       "      <th>month</th>\n",
       "      <th>day_of_week</th>\n",
       "      <th>...</th>\n",
       "      <th>campaign</th>\n",
       "      <th>pdays</th>\n",
       "      <th>previous</th>\n",
       "      <th>poutcome</th>\n",
       "      <th>emp.var.rate</th>\n",
       "      <th>cons.price.idx</th>\n",
       "      <th>cons.conf.idx</th>\n",
       "      <th>euribor3m</th>\n",
       "      <th>nr.employed</th>\n",
       "      <th>y</th>\n",
       "    </tr>\n",
       "  </thead>\n",
       "  <tbody>\n",
       "    <tr>\n",
       "      <th>0</th>\n",
       "      <td>56</td>\n",
       "      <td>housemaid</td>\n",
       "      <td>married</td>\n",
       "      <td>basic.4y</td>\n",
       "      <td>no</td>\n",
       "      <td>no</td>\n",
       "      <td>no</td>\n",
       "      <td>telephone</td>\n",
       "      <td>may</td>\n",
       "      <td>mon</td>\n",
       "      <td>...</td>\n",
       "      <td>1</td>\n",
       "      <td>999</td>\n",
       "      <td>0</td>\n",
       "      <td>nonexistent</td>\n",
       "      <td>1.1</td>\n",
       "      <td>93.994</td>\n",
       "      <td>-36.4</td>\n",
       "      <td>4.857</td>\n",
       "      <td>5191.0</td>\n",
       "      <td>0</td>\n",
       "    </tr>\n",
       "    <tr>\n",
       "      <th>1</th>\n",
       "      <td>57</td>\n",
       "      <td>services</td>\n",
       "      <td>married</td>\n",
       "      <td>high.school</td>\n",
       "      <td>unknown</td>\n",
       "      <td>no</td>\n",
       "      <td>no</td>\n",
       "      <td>telephone</td>\n",
       "      <td>may</td>\n",
       "      <td>mon</td>\n",
       "      <td>...</td>\n",
       "      <td>1</td>\n",
       "      <td>999</td>\n",
       "      <td>0</td>\n",
       "      <td>nonexistent</td>\n",
       "      <td>1.1</td>\n",
       "      <td>93.994</td>\n",
       "      <td>-36.4</td>\n",
       "      <td>4.857</td>\n",
       "      <td>5191.0</td>\n",
       "      <td>0</td>\n",
       "    </tr>\n",
       "    <tr>\n",
       "      <th>2</th>\n",
       "      <td>37</td>\n",
       "      <td>services</td>\n",
       "      <td>married</td>\n",
       "      <td>high.school</td>\n",
       "      <td>no</td>\n",
       "      <td>yes</td>\n",
       "      <td>no</td>\n",
       "      <td>telephone</td>\n",
       "      <td>may</td>\n",
       "      <td>mon</td>\n",
       "      <td>...</td>\n",
       "      <td>1</td>\n",
       "      <td>999</td>\n",
       "      <td>0</td>\n",
       "      <td>nonexistent</td>\n",
       "      <td>1.1</td>\n",
       "      <td>93.994</td>\n",
       "      <td>-36.4</td>\n",
       "      <td>4.857</td>\n",
       "      <td>5191.0</td>\n",
       "      <td>0</td>\n",
       "    </tr>\n",
       "    <tr>\n",
       "      <th>3</th>\n",
       "      <td>40</td>\n",
       "      <td>admin.</td>\n",
       "      <td>married</td>\n",
       "      <td>basic.6y</td>\n",
       "      <td>no</td>\n",
       "      <td>no</td>\n",
       "      <td>no</td>\n",
       "      <td>telephone</td>\n",
       "      <td>may</td>\n",
       "      <td>mon</td>\n",
       "      <td>...</td>\n",
       "      <td>1</td>\n",
       "      <td>999</td>\n",
       "      <td>0</td>\n",
       "      <td>nonexistent</td>\n",
       "      <td>1.1</td>\n",
       "      <td>93.994</td>\n",
       "      <td>-36.4</td>\n",
       "      <td>4.857</td>\n",
       "      <td>5191.0</td>\n",
       "      <td>0</td>\n",
       "    </tr>\n",
       "    <tr>\n",
       "      <th>4</th>\n",
       "      <td>56</td>\n",
       "      <td>services</td>\n",
       "      <td>married</td>\n",
       "      <td>high.school</td>\n",
       "      <td>no</td>\n",
       "      <td>no</td>\n",
       "      <td>yes</td>\n",
       "      <td>telephone</td>\n",
       "      <td>may</td>\n",
       "      <td>mon</td>\n",
       "      <td>...</td>\n",
       "      <td>1</td>\n",
       "      <td>999</td>\n",
       "      <td>0</td>\n",
       "      <td>nonexistent</td>\n",
       "      <td>1.1</td>\n",
       "      <td>93.994</td>\n",
       "      <td>-36.4</td>\n",
       "      <td>4.857</td>\n",
       "      <td>5191.0</td>\n",
       "      <td>0</td>\n",
       "    </tr>\n",
       "  </tbody>\n",
       "</table>\n",
       "<p>5 rows × 21 columns</p>\n",
       "</div>"
      ],
      "text/plain": [
       "   age        job  marital    education  default housing loan    contact  \\\n",
       "0   56  housemaid  married     basic.4y       no      no   no  telephone   \n",
       "1   57   services  married  high.school  unknown      no   no  telephone   \n",
       "2   37   services  married  high.school       no     yes   no  telephone   \n",
       "3   40     admin.  married     basic.6y       no      no   no  telephone   \n",
       "4   56   services  married  high.school       no      no  yes  telephone   \n",
       "\n",
       "  month day_of_week  ...  campaign  pdays  previous     poutcome emp.var.rate  \\\n",
       "0   may         mon  ...         1    999         0  nonexistent          1.1   \n",
       "1   may         mon  ...         1    999         0  nonexistent          1.1   \n",
       "2   may         mon  ...         1    999         0  nonexistent          1.1   \n",
       "3   may         mon  ...         1    999         0  nonexistent          1.1   \n",
       "4   may         mon  ...         1    999         0  nonexistent          1.1   \n",
       "\n",
       "   cons.price.idx  cons.conf.idx  euribor3m  nr.employed  y  \n",
       "0          93.994          -36.4      4.857       5191.0  0  \n",
       "1          93.994          -36.4      4.857       5191.0  0  \n",
       "2          93.994          -36.4      4.857       5191.0  0  \n",
       "3          93.994          -36.4      4.857       5191.0  0  \n",
       "4          93.994          -36.4      4.857       5191.0  0  \n",
       "\n",
       "[5 rows x 21 columns]"
      ]
     },
     "execution_count": 9,
     "metadata": {},
     "output_type": "execute_result"
    }
   ],
   "source": [
    "# Binarizing target column with help of pandas replace function\n",
    "df['y'].replace({'yes' : 1, 'no' : 0}, inplace = True)\n",
    "df.head()"
   ]
  },
  {
   "cell_type": "markdown",
   "metadata": {},
   "source": [
    "With all above analysis it is clear that the problem is supervised classification problems. In classification there are independent and dependent variables as mention earlier, we need to specify independent as 'X' and dependent or target as 'y'."
   ]
  },
  {
   "cell_type": "code",
   "execution_count": 10,
   "metadata": {},
   "outputs": [],
   "source": [
    "# Storing independent variables in 'X' variable\n",
    "X = df.iloc[:, :-1]\n",
    "\n",
    "# Storing dependent variable in 'y' variable\n",
    "y = df.iloc[:, -1]"
   ]
  },
  {
   "cell_type": "markdown",
   "metadata": {},
   "source": [
    "In our dataset there are few categorical columns and one of Machine Learning requirement is all columns should have numerical data.\n",
    "\n",
    "There are various ways to convert categorical columns into numerical such as:\n",
    "    a. LabelEncoder\n",
    "    b. OneHotEncoding\n",
    "    c. PandasDummify\n",
    "    \n",
    "Here I am using basic dummifying technique to convert all categorical to numerical."
   ]
  },
  {
   "cell_type": "code",
   "execution_count": 11,
   "metadata": {},
   "outputs": [],
   "source": [
    "# Dummifying all categorical variables\n",
    "categorical = df.describe(include='object').T.index.tolist()\n",
    "X = pd.get_dummies(X, columns=categorical, drop_first=True)"
   ]
  },
  {
   "cell_type": "markdown",
   "metadata": {},
   "source": [
    "### To check dataset is balance or not?\n",
    "So far our whole dataset columns are numerical and now next step we need to check our target variable is distributed uniformly or it is imbalance.\n",
    "\n",
    "**Imbalance:** Suppose we have 2 categories in our target variable and ration of them is 1000:10 which is totally imbalance\n",
    "\n",
    "Let's check our target variable"
   ]
  },
  {
   "cell_type": "code",
   "execution_count": 12,
   "metadata": {},
   "outputs": [
    {
     "data": {
      "text/plain": [
       "Counter({0: 36548, 1: 4640})"
      ]
     },
     "execution_count": 12,
     "metadata": {},
     "output_type": "execute_result"
    }
   ],
   "source": [
    "from collections import Counter\n",
    "Counter(y)"
   ]
  },
  {
   "cell_type": "markdown",
   "metadata": {},
   "source": [
    "Majority class 0 number of entries 36548\n",
    "Minority class 1 number of entries 4640\n",
    "This is imbalance dataset, we are about this by seeing above distribution of majority and minority class\n",
    "\n",
    "In next step I am going to check the percentage of majority class"
   ]
  },
  {
   "cell_type": "code",
   "execution_count": 13,
   "metadata": {},
   "outputs": [
    {
     "data": {
      "text/plain": [
       "0    0.887346\n",
       "Name: y, dtype: float64"
      ]
     },
     "execution_count": 13,
     "metadata": {},
     "output_type": "execute_result"
    }
   ],
   "source": [
    "pd.value_counts(y).head(1)/len(y)"
   ]
  },
  {
   "cell_type": "markdown",
   "metadata": {},
   "source": [
    "Here we can see that this is imbalanced dataset, to manage imbalance I am using technique to reduce the amount of imbalance by using hybrid technique of Imblearn."
   ]
  },
  {
   "cell_type": "code",
   "execution_count": 14,
   "metadata": {},
   "outputs": [],
   "source": [
    "from imblearn.combine import SMOTETomek\n",
    "smt = SMOTETomek(sampling_strategy=0.4,random_state=42)"
   ]
  },
  {
   "cell_type": "code",
   "execution_count": 15,
   "metadata": {},
   "outputs": [],
   "source": [
    "X_new,y_new = smt.fit_resample(X, y)"
   ]
  },
  {
   "cell_type": "code",
   "execution_count": 16,
   "metadata": {},
   "outputs": [
    {
     "data": {
      "text/plain": [
       "Counter({0: 36086, 1: 14157})"
      ]
     },
     "execution_count": 16,
     "metadata": {},
     "output_type": "execute_result"
    }
   ],
   "source": [
    "Counter(y_new)"
   ]
  },
  {
   "cell_type": "code",
   "execution_count": 17,
   "metadata": {},
   "outputs": [
    {
     "data": {
      "text/plain": [
       "0    0.718229\n",
       "Name: y, dtype: float64"
      ]
     },
     "execution_count": 17,
     "metadata": {},
     "output_type": "execute_result"
    }
   ],
   "source": [
    "pd.value_counts(y_new).head(1)/len(y_new)"
   ]
  },
  {
   "cell_type": "markdown",
   "metadata": {},
   "source": [
    "In the above cell we can see that our perentage of imbalace reduce from 88.7 to 71.7 which is quite understandable for model to learn."
   ]
  },
  {
   "cell_type": "markdown",
   "metadata": {},
   "source": [
    "### Splitting datasets in test and train\n",
    "\n",
    "After processing imbalance our dataset is ready for model training, but after training our model on the whole dataset how would we know the permormance of our model (which model is performing better and at what accuracy). To counter this question we can do split of our dataset into two parts one is trains_set and other is test_set.\n",
    "\n",
    "Train_set is the data which is used to train our models and now we have test_set to check the performance of our model respectively.\n",
    "This is the need of splitting our dataset into two parts train and test."
   ]
  },
  {
   "cell_type": "code",
   "execution_count": 18,
   "metadata": {},
   "outputs": [],
   "source": [
    "from sklearn.model_selection import train_test_split\n",
    "X_train, X_test, y_train, y_test = train_test_split(X, y, test_size = 0.33, random_state=42)"
   ]
  },
  {
   "cell_type": "markdown",
   "metadata": {},
   "source": [
    "Great!\n",
    "we have train set and test set.\n",
    "Now we are ready to build models?\n",
    "\n",
    "No wait as far I know distance based algorithm need to scale whereas tree based algorithm is not necessarily need to scaled. And we are using both distance based and tree based algorithm as mentioned in earlier.\n",
    "\n",
    "If we don't scale then it affect on distance based algorithm. This approach is not advisable.\n",
    "Second approach is to scale and tree based algorithm perform well on scaled data also. So I will scale our dataset as discussed the reason being.\n",
    "\n",
    "During my study I learn there are two methods to scale:\n",
    "\n",
    "    1. Standardization\n",
    "    2. Normalization\n",
    "    \n",
    "Eather method is suitable there is no set rule, Normally I use standardize method on ML and Normalization on Image dataset. (**NOTE:** No set rule, my personal way to have hands-on both techniques)\n",
    "\n",
    "I will use scikit-learn StandardScaler function for scaling."
   ]
  },
  {
   "cell_type": "code",
   "execution_count": 19,
   "metadata": {},
   "outputs": [],
   "source": [
    "# Standarzing data by scaling\n",
    "\n",
    "from sklearn.preprocessing import StandardScaler\n",
    "sc = StandardScaler()\n",
    "\n",
    "X_train = sc.fit_transform(X_train)\n",
    "X_train = pd.DataFrame(X_train, columns=X_test.columns)\n",
    "\n",
    "X_test = sc.transform(X_test)\n",
    "X_test = pd.DataFrame(X_test, columns=X_train.columns)"
   ]
  },
  {
   "cell_type": "markdown",
   "metadata": {},
   "source": [
    "In above cell you might observe that on training I use `sc.fit_transform(X_train)` and `sc.transform(X_test)`\n",
    "\n",
    "The logic here is simple we want to keep our test set unbias, `sc.transform` just transform the test set, all numerical calculation of train set like standard deviation is hidden to test set so when we do predict our model on test set it should not be biased other wise it will lead to overfitting. "
   ]
  },
  {
   "cell_type": "markdown",
   "metadata": {},
   "source": [
    "### 3. Applying supervised Model"
   ]
  },
  {
   "cell_type": "code",
   "execution_count": 20,
   "metadata": {},
   "outputs": [],
   "source": [
    "# Calling models from frameworks:\n",
    "from sklearn.linear_model import LogisticRegression\n",
    "from sklearn.ensemble import AdaBoostClassifier\n",
    "from sklearn.neighbors import KNeighborsClassifier\n",
    "from sklearn.svm import SVC"
   ]
  },
  {
   "cell_type": "code",
   "execution_count": 25,
   "metadata": {},
   "outputs": [],
   "source": [
    "# Using variables to identifying model\n",
    "lr= LogisticRegression()\n",
    "adb = AdaBoostClassifier()\n",
    "knn=KNeighborsClassifier()\n",
    "svc = SVC()"
   ]
  },
  {
   "cell_type": "code",
   "execution_count": 26,
   "metadata": {},
   "outputs": [
    {
     "data": {
      "text/plain": [
       "SVC()"
      ]
     },
     "execution_count": 26,
     "metadata": {},
     "output_type": "execute_result"
    }
   ],
   "source": [
    "# Fitting model on train set\n",
    "lr.fit(X_train,y_train)\n",
    "adb.fit(X_train,y_train)\n",
    "knn.fit(X_train,y_train)\n",
    "svc.fit(X_train,y_train)"
   ]
  },
  {
   "cell_type": "markdown",
   "metadata": {},
   "source": [
    "### 4. Model Performance\n",
    "\n",
    "With the model whatever is been used we need to check the performance of each model to identify the performance, and to take a call to choose the best fit model."
   ]
  },
  {
   "cell_type": "code",
   "execution_count": 27,
   "metadata": {},
   "outputs": [
    {
     "data": {
      "image/png": "[encoded data removed]",
      "text/plain": [
       "<Figure size 432x288 with 1 Axes>"
      ]
     },
     "metadata": {},
     "output_type": "display_data"
    }
   ],
   "source": [
    "from sklearn.metrics import plot_roc_curve\n",
    "roc=plot_roc_curve(lr,X_test,y_test)\n",
    "plot_roc_curve(adb,X_test,y_test,ax=roc.ax_);\n",
    "plot_roc_curve(knn,X_test,y_test,ax=roc.ax_);\n",
    "plot_roc_curve(svc,X_test,y_test,ax=roc.ax_);"
   ]
  },
  {
   "cell_type": "markdown",
   "metadata": {},
   "source": [
    "Above graph shows performance of each model, Logistic Regression and AdaBoost Classifier is scoring 94% it is not accuracy it is (AUC score)."
   ]
  },
  {
   "cell_type": "code",
   "execution_count": 29,
   "metadata": {},
   "outputs": [],
   "source": [
    "# Predicting models on test data\n",
    "lr_y_pred = lr.predict(X_test)\n",
    "adb_y_pred = adb.predict(X_test)\n",
    "knn_y_pred = knn.predict(X_test)\n",
    "svc_y_pred = svc.predict(X_test)"
   ]
  },
  {
   "cell_type": "markdown",
   "metadata": {},
   "source": [
    "Now I have so far build 4 models and have been through AUC score also. Being datascientist we can make our decision based on one performance we need to check various things.\n",
    "\n",
    "Let's see model performance in term of accuracy of each."
   ]
  },
  {
   "cell_type": "code",
   "execution_count": 30,
   "metadata": {},
   "outputs": [
    {
     "name": "stdout",
     "output_type": "stream",
     "text": [
      "Logistic Reg ACC  : 91.05421908335173\n",
      "ADABoost Tree ACC : 90.75259324652394\n",
      "KNN ACC           : 89.50194953284779\n",
      "SVC ACC           : 90.811447068344\n"
     ]
    }
   ],
   "source": [
    "from sklearn.metrics import accuracy_score\n",
    "\n",
    "print(f\"Logistic Reg ACC  : {accuracy_score(y_test, lr_y_pred)*100}\")\n",
    "print(f\"ADABoost Tree ACC : {accuracy_score(y_test, adb_y_pred)*100}\")\n",
    "print(f\"KNN ACC           : {accuracy_score(y_test, knn_y_pred)*100}\")\n",
    "print(f\"SVC ACC           : {accuracy_score(y_test, svc_y_pred)*100}\")"
   ]
  },
  {
   "cell_type": "markdown",
   "metadata": {},
   "source": [
    "**Logistic Reg:**\n",
    "    -AUC SCORE : 0.94\n",
    "    -ACCURACY  : 0.91\n",
    "    \n",
    "**ADABoost:**\n",
    "    -AUC SCORE : 0.94\n",
    "    -ACCURACY  : 0.90\n",
    "    \n",
    "**KNN:**\n",
    "    -AUC SCORE : 0.81\n",
    "    -ACCURACY  : 0.89\n",
    "    \n",
    "**SVM:**\n",
    "    -AUC SCORE : 0.93\n",
    "    -ACCURACY  : 0.90\n",
    "\n",
    "Till now I can say Logistic Regression is performing well, but let's go one more step ahead and do confusion metrix evaluation.\n",
    "\n",
    "Confusion metrix will tell beyond accuracy, we can identify the amount of misclassified prediction by false positive and false negative also correctly classified of True positive and true negative.\n",
    "\n",
    "#### Short Intro about True Positive, False Positive, True Negative, False Negative\n",
    "\n",
    "    -True positive  : 1 is truly predicted as 1 by our model\n",
    "    -True negative  : 0 is correctly classified as 0 by model\n",
    "    -False positive : 0 is misclassified as 1\n",
    "    -False negative : 1 is misclassified as 0\n",
    "\n",
    "Now we have adequate understanding of confusion metrix. Let's do it manually."
   ]
  },
  {
   "cell_type": "code",
   "execution_count": 40,
   "metadata": {},
   "outputs": [
    {
     "name": "stdout",
     "output_type": "stream",
     "text": [
      "Specificity : 0.9737889847378899\n",
      "Precision   : 0.6684155299055614\n",
      "Sensitivity : 0.41444372153545866\n"
     ]
    }
   ],
   "source": [
    "# Confusion Metrix for Logistic Reg\n",
    "from sklearn.metrics import confusion_matrix\n",
    "cm_lr=confusion_matrix(y_test,lr_y_pred)\n",
    "cm_lr\n",
    "\n",
    "##True Negative\n",
    "TN_lr=cm_lr[0,0]\n",
    "##False Negative\n",
    "FN_lr=cm_lr[1,0]\n",
    "##False Positives\n",
    "FP_lr=cm_lr[0,1]\n",
    "##True Positives\n",
    "TP_lr=cm_lr[1,1]\n",
    "\n",
    "## Calculating Sensitivity\n",
    "Sensitivity=TP_lr/(TP_lr+FN_lr)\n",
    "\n",
    "##Calculating Specificity\n",
    "Specificity=TN_lr/(TN_lr+FP_lr)\n",
    "\n",
    "##Precision\n",
    "Precision= TP_lr/(TP_lr+FP_lr)\n",
    "\n",
    "print(f'Specificity : {Specificity}')\n",
    "print(f'Precision   : {Precision}')\n",
    "print(f'Sensitivity : {Sensitivity}')"
   ]
  },
  {
   "cell_type": "code",
   "execution_count": 39,
   "metadata": {},
   "outputs": [
    {
     "name": "stdout",
     "output_type": "stream",
     "text": [
      "Specificity : 0.9725447909754479\n",
      "Precision   : 0.648619957537155\n",
      "Sensitivity : 0.39752765126870526\n"
     ]
    }
   ],
   "source": [
    "# Confusion Metrix for ADA Boost\n",
    "from sklearn.metrics import confusion_matrix\n",
    "cm_adb=confusion_matrix(y_test,adb_y_pred)\n",
    "\n",
    "##True Negative\n",
    "TN_adb=cm_adb[0,0]\n",
    "##False Negative\n",
    "FN_adb=cm_adb[1,0]\n",
    "##False Positives\n",
    "FP_adb=cm_adb[0,1]\n",
    "##True Positives\n",
    "TP_adb=cm_adb[1,1]\n",
    "\n",
    "## Calculating Sensitivity\n",
    "Sensitivity=TP_adb/(TP_adb+FN_adb)\n",
    "\n",
    "##Calculating Specificity\n",
    "Specificity=TN_adb/(TN_adb+FP_adb)\n",
    "\n",
    "##Precision\n",
    "Precision= TP_adb/(TP_adb+FP_adb)\n",
    "\n",
    "print(f'Specificity : {Specificity}')\n",
    "print(f'Precision   : {Precision}')\n",
    "print(f'Sensitivity : {Sensitivity}')"
   ]
  },
  {
   "cell_type": "code",
   "execution_count": 42,
   "metadata": {},
   "outputs": [
    {
     "name": "stdout",
     "output_type": "stream",
     "text": [
      "Specificity : 0.968065693430657\n",
      "Precision   : 0.5625\n",
      "Sensitivity : 0.32205595315549773\n"
     ]
    }
   ],
   "source": [
    "# Confusion Metrix for KNN\n",
    "from sklearn.metrics import confusion_matrix\n",
    "cm_knn=confusion_matrix(y_test,knn_y_pred)\n",
    "cm_knn\n",
    "\n",
    "##True Negative\n",
    "TN_knn=cm_knn[0,0]\n",
    "##False Negative\n",
    "FN_knn=cm_knn[1,0]\n",
    "##False Positives\n",
    "FP_knn=cm_knn[0,1]\n",
    "##True Positives\n",
    "TP_knn=cm_knn[1,1]\n",
    "\n",
    "## Calculating Sensitivity\n",
    "Sensitivity=TP_knn/(TP_knn+FN_knn)\n",
    "\n",
    "##Calculating Specificity\n",
    "Specificity=TN_knn/(TN_knn+FP_knn)\n",
    "\n",
    "##Precision\n",
    "Precision= TP_knn/(TP_knn+FP_knn)\n",
    "\n",
    "print(f'Specificity : {Specificity}')\n",
    "print(f'Precision   : {Precision}')\n",
    "print(f'Sensitivity : {Sensitivity}')"
   ]
  },
  {
   "cell_type": "code",
   "execution_count": 43,
   "metadata": {},
   "outputs": [
    {
     "name": "stdout",
     "output_type": "stream",
     "text": [
      "Specificity : 0.9769409422694094\n",
      "Precision   : 0.6706161137440758\n",
      "Sensitivity : 0.3682498373454782\n"
     ]
    }
   ],
   "source": [
    "# Confusion Metrix for SVC\n",
    "from sklearn.metrics import confusion_matrix\n",
    "cm_svc=confusion_matrix(y_test,svc_y_pred)\n",
    "cm_svc\n",
    "\n",
    "##True Negative\n",
    "TN_svc=cm_svc[0,0]\n",
    "##False Negative\n",
    "FN_svc=cm_svc[1,0]\n",
    "##False Positives\n",
    "FP_svc=cm_svc[0,1]\n",
    "##True Positives\n",
    "TP_svc=cm_svc[1,1]\n",
    "\n",
    "## Calculating Sensitivity\n",
    "Sensitivity=TP_svc/(TP_svc+FN_svc)\n",
    "\n",
    "##Calculating Specificity\n",
    "Specificity=TN_svc/(TN_svc+FP_svc)\n",
    "\n",
    "##Precision\n",
    "Precision= TP_svc/(TP_svc+FP_svc)\n",
    "\n",
    "print(f'Specificity : {Specificity}')\n",
    "print(f'Precision   : {Precision}')\n",
    "print(f'Sensitivity : {Sensitivity}')"
   ]
  },
  {
   "cell_type": "markdown",
   "metadata": {},
   "source": [
    "### Conclusion\n",
    "\n",
    "#### Model Performance\n",
    "\n",
    "**Logistic Regression:**\n",
    "\n",
    "    -Accuracy    : 0.91\n",
    "    -Specificity : 0.97\n",
    "    -Precision   : 0.67\n",
    "    -Sensitivity : 0.41\n",
    "    -ROC Score   : 0.94\n",
    "\n",
    "**ADA Boost:**\n",
    "\n",
    "    -Accuracy    : 0.90\n",
    "    -Specificity : 0.97\n",
    "    -Precision   : 0.65\n",
    "    -Sensitivity : 0.40\n",
    "    -ROC Score   : 0.94\n",
    "\n",
    "**K Nearest Neighbour:**\n",
    "\n",
    "    -Accuracy    : 0.89\n",
    "    -Specificity : 0.97\n",
    "    -Precision   : 0.56\n",
    "    -Sensitivity : 0.32\n",
    "    -ROC Score   : 0.81\n",
    "\n",
    "**Support Vector Classifier:**\n",
    "\n",
    "    -Accuracy    : 0.90\n",
    "    -Specificity : 0.98\n",
    "    -Precision   : 0.67\n",
    "    -Sensitivity : 0.37\n",
    "    -ROC Score   : 0.93\n",
    "\n",
    "After all the model evaluation Logistic Regression is performing well as compared to other applied model. As we can see with Logistic Regression our Accuracy, Specificity, Sensitivity, and Precision giving satisfied outcome.\n",
    "\n",
    "For current dataset I must go with Logistic Regression and if more data is generated then we should perform all analysis again to check model performance.\n",
    "\n",
    "My suggestion is to go with Logistic Regression as per my Analysis."
   ]
  }
 ],
 "metadata": {
  "kernelspec": {
   "display_name": "Python 3",
   "language": "python",
   "name": "python3"
  },
  "language_info": {
   "codemirror_mode": {
    "name": "ipython",
    "version": 3
   },
   "file_extension": ".py",
   "mimetype": "text/x-python",
   "name": "python",
   "nbconvert_exporter": "python",
   "pygments_lexer": "ipython3",
   "version": "3.8.5"
  }
 },
 "nbformat": 4,
 "nbformat_minor": 4
}
